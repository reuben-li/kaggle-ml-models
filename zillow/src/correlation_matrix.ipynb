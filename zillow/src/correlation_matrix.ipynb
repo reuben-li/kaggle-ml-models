{
 "cells": [
  {
   "cell_type": "code",
   "execution_count": null,
   "metadata": {
    "collapsed": false
   },
   "outputs": [],
   "source": [
    "\"\"\"Correlation matrix calculator\"\"\"\n",
    "from __future__ import print_function\n",
    "import glob\n",
    "import os\n",
    "import pandas as pd\n",
    "\n",
    "PATH = 'results/'\n",
    "\n",
    "dfs = []\n",
    "for f in os.listdir(PATH):\n",
    "    if '.csv' not in f:\n",
    "        continue\n",
    "    frame = pd.read_csv(PATH + f, usecols=['201610'])\n",
    "    frame.columns = f + frame.columns\n",
    "    dfs.append(frame)\n",
    "\n",
    "a = pd.concat(dfs, axis=1).corr()\n",
    "for i in a:\n",
    "    print(i.replace('201610', ''))\n",
    "print('\\n--------------')\n",
    "print(a.mean())\n",
    "print(\"\\noverall:\" + str(a.mean().mean()))\n",
    "a\n"
   ]
  },
  {
   "cell_type": "code",
   "execution_count": null,
   "metadata": {
    "collapsed": true
   },
   "outputs": [],
   "source": []
  }
 ],
 "metadata": {
  "kernelspec": {
   "display_name": "Python 2",
   "language": "python",
   "name": "python2"
  },
  "language_info": {
   "codemirror_mode": {
    "name": "ipython",
    "version": 2
   },
   "file_extension": ".py",
   "mimetype": "text/x-python",
   "name": "python",
   "nbconvert_exporter": "python",
   "pygments_lexer": "ipython2",
   "version": "2.7.11"
  }
 },
 "nbformat": 4,
 "nbformat_minor": 2
}
